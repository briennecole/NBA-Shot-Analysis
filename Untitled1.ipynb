{
 "cells": [
  {
   "cell_type": "code",
   "execution_count": null,
   "id": "greater-directory",
   "metadata": {},
   "outputs": [],
   "source": [
    "#code taken from http://savvastjortjoglou.com/nba-shot-sharts.html\n",
    "%matplotlib inline\n",
    "import requests\n",
    "import matplotlib.pyplot as plt\n",
    "import pandas as pd\n",
    "import seaborn as sns\n",
    "\n",
    "nba_df= pd.read_csv(\"Resources/Final_nba_df.csv\") \n"
   ]
  }
 ],
 "metadata": {
  "kernelspec": {
   "display_name": "Python 3",
   "language": "python",
   "name": "python3"
  },
  "language_info": {
   "codemirror_mode": {
    "name": "ipython",
    "version": 3
   },
   "file_extension": ".py",
   "mimetype": "text/x-python",
   "name": "python",
   "nbconvert_exporter": "python",
   "pygments_lexer": "ipython3",
   "version": "3.6.10"
  }
 },
 "nbformat": 4,
 "nbformat_minor": 5
}
